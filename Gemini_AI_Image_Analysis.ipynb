{
  "nbformat": 4,
  "nbformat_minor": 0,
  "metadata": {
    "colab": {
      "provenance": []
    },
    "kernelspec": {
      "name": "python3",
      "display_name": "Python 3"
    },
    "language_info": {
      "name": "python"
    }
  },
  "cells": [
    {
      "cell_type": "code",
      "source": [
        "import google.generativeai as genai\n",
        "from google.colab import userdata\n",
        "GOOGLE_API_KEY=userdata.get('GOOGLE_API_KEY')\n",
        "genai.configure(api_key=GOOGLE_API_KEY)"
      ],
      "metadata": {
        "id": "j0tocGGnXkgP"
      },
      "execution_count": 2,
      "outputs": []
    },
    {
      "cell_type": "code",
      "source": [
        "from google import genai\n",
        "from google.genai import types\n",
        "client = genai.Client(api_key=GOOGLE_API_KEY)"
      ],
      "metadata": {
        "id": "Mikl6rjEXyl_"
      },
      "execution_count": 3,
      "outputs": []
    },
    {
      "cell_type": "code",
      "source": [
        "client = genai.Client(api_key=GOOGLE_API_KEY)"
      ],
      "metadata": {
        "id": "l_7PFTpXX-8G"
      },
      "execution_count": 4,
      "outputs": []
    },
    {
      "cell_type": "code",
      "source": [
        "import pathlib\n",
        "import textwrap\n",
        "from IPython.display import display, Markdown\n",
        "def to_markdown(text):\n",
        "  text = text.replace('.', ' *')\n",
        "  return Markdown(textwrap.indent(text, '> ', predicate=lambda _: True))"
      ],
      "metadata": {
        "id": "M1tkfdpnYIlI"
      },
      "execution_count": 5,
      "outputs": []
    },
    {
      "cell_type": "code",
      "source": [
        "import google.generativeai as genai\n",
        "import PIL.Image\n",
        "img = PIL.Image.open('Image.jpg')\n",
        "img\n",
        "model = genai.GenerativeModel('gemini-1.5-flash')\n",
        "response = model.generate_content([\"Write a short, engaging blog post based on this picture.It should include a description of the meal in the photo and talk about my journey meal prepping.\", img],stream=True)\n",
        "response.resolve()\n"
      ],
      "metadata": {
        "id": "R_eCBrEWYwfA"
      },
      "execution_count": 17,
      "outputs": []
    },
    {
      "cell_type": "code",
      "source": [
        "to_markdown(response.text)"
      ],
      "metadata": {
        "colab": {
          "base_uri": "https://localhost:8080/",
          "height": 463
        },
        "id": "dfDnnC0NcDW7",
        "outputId": "78b6e706-be53-46c4-d475-03ad5030f6fb"
      },
      "execution_count": 18,
      "outputs": [
        {
          "output_type": "execute_result",
          "data": {
            "text/plain": [
              "<IPython.core.display.Markdown object>"
            ],
            "text/markdown": "> ## My Meal Prep Journey: From Chaos to Colorful Containers!\n> \n> Look at these beauties!  These aren't just any containers; they're my ticket to a healthier, happier, and *significantly* less stressful week *  That's two portions of my latest meal prep masterpiece:  teriyaki chicken and veggies over fluffy white rice *  Each container is a perfectly balanced portion of savory teriyaki chicken, vibrant roasted red peppers and carrots, and a generous helping of steamed broccoli – all nestled on a bed of fluffy rice *\n> \n> My journey with meal prepping hasn't been a straight line to deliciousness * It started, like many things, with good intentions and a Pinterest board overflowing with inspiring (and intimidating) recipes * My early attempts were… let's just say less than stellar *  Bland chicken, soggy veggies, and a general sense of overwhelm often led me back to takeout *\n> \n> But I persisted! I learned that meal prepping isn't about slaving away in the kitchen for hours; it's about smart planning and efficient cooking *  Now, I dedicate a few hours on the weekend to prepping ingredients, and the actual cooking time is surprisingly short *  I focus on versatile recipes, like this teriyaki chicken, which can be easily adapted for different meals throughout the week *\n> \n> The benefits?  Besides the obvious health advantages of controlling my portions and ingredients, the biggest win is the time saved during the week *  No more frantic searches for dinner ideas or rushing to grab unhealthy takeout *  Instead, I have a delicious, healthy meal ready in minutes, leaving me more time to focus on things that truly matter *  So, if you're considering joining the meal prep revolution, take the plunge!  It's worth the effort *  And trust me, the satisfaction of opening your fridge to a rainbow of healthy goodness is unbeatable *\n"
          },
          "metadata": {},
          "execution_count": 18
        }
      ]
    },
    {
      "cell_type": "code",
      "source": [
        "response = model.generate_content([\"Generate an accurate caption for this image.\", img])\n",
        "print(response.text)"
      ],
      "metadata": {
        "colab": {
          "base_uri": "https://localhost:8080/",
          "height": 418
        },
        "id": "-qurRXk4eGa5",
        "outputId": "9c4d529b-17d1-43bc-f19e-b45b5da20521"
      },
      "execution_count": 23,
      "outputs": [
        {
          "output_type": "stream",
          "name": "stdout",
          "text": [
            "Here are a few caption options for the image:\n",
            "\n",
            "**Option 1 (Simple & Descriptive):**\n",
            "\n",
            "> Healthy and delicious meal prep!  Chicken and broccoli with rice.\n",
            "\n",
            "**Option 2 (More Engaging):**\n",
            "\n",
            "> Lunch goals!  These chicken and veggie bowls are packed with flavor and ready to go.  #mealprep #healthyfood #lunchideas #cleaneating\n",
            "\n",
            "**Option 3 (Focus on Convenience):**\n",
            "\n",
            "> Easy weeknight dinners just got easier.  Grab-and-go meal prep containers make healthy eating a breeze.\n",
            "\n",
            "**Option 4 (A bit more playful):**\n",
            "\n",
            "> My kind of takeout!  Homemade healthy bowls ready to fuel my day.\n",
            "\n",
            "\n",
            "Choose the caption that best suits your intended audience and platform.\n",
            "\n"
          ]
        }
      ]
    },
    {
      "cell_type": "code",
      "source": [
        "from PIL import Image\n",
        "image_path = \"girl.jpg\"\n",
        "image = Image.open(image_path)\n",
        "response = model.generate_content([\"Describe this image in detail.\", image])\n",
        "print(response.text)"
      ],
      "metadata": {
        "colab": {
          "base_uri": "https://localhost:8080/",
          "height": 219
        },
        "id": "oYSrZ-kue3bQ",
        "outputId": "4b43a7e3-7b87-41d8-d237-6467ae8307ef"
      },
      "execution_count": 26,
      "outputs": [
        {
          "output_type": "stream",
          "name": "stdout",
          "text": [
            "Here's a description of the image:\n",
            "\n",
            "Close-up view of a woman with shoulder-length, curly brown hair. \n",
            "\n",
            "\n",
            "She is wearing a teal blue three-quarter sleeve top or kurta with a subtle gold print of small, floral or paisley-like designs. The top has a simple neckline. \n",
            "\n",
            "\n",
            "The woman has a warm, friendly expression, with a smile and her index finger pointing to the left, indicating or drawing attention to something off-camera. Her arms are crossed, with one hand gesturing and the other resting on her arm. Her skin tone is medium, and her makeup appears minimal and natural. The background is a plain, bright white. The overall lighting is soft and even, highlighting the woman and her attire. The image is sharply focused on her, giving a clear and detailed view.\n",
            "\n"
          ]
        }
      ]
    },
    {
      "cell_type": "code",
      "source": [
        "response = model.generate_content([\"What emotions can you detect for this image?.\", img])\n",
        "print(response.text)"
      ],
      "metadata": {
        "colab": {
          "base_uri": "https://localhost:8080/",
          "height": 418
        },
        "id": "VAXHb4uqg6IH",
        "outputId": "688dfaee-0a71-4b87-f944-71c5a5f4beaa"
      },
      "execution_count": 27,
      "outputs": [
        {
          "output_type": "stream",
          "name": "stdout",
          "text": [
            "Here's a breakdown of the emotions that the image of prepared meals might evoke:\n",
            "\n",
            "**Positive Emotions:**\n",
            "\n",
            "* **Happiness/Contentment:** The image is visually appealing and suggests a healthy, well-prepared meal, which can evoke feelings of satisfaction and contentment.\n",
            "* **Calmness/Peace:** The neat presentation and organized nature of the food might instill a sense of calmness.  It looks like someone took time and care to prepare these meals.\n",
            "* **Anticipation/Excitement:**  The food looks delicious, prompting anticipation of a satisfying meal.\n",
            "* **Health consciousness:** The image projects a feeling of health and well-being. The meal appears nutritious and balanced.\n",
            "\n",
            "**Neutral Emotions:**\n",
            "\n",
            "* **Indifference:** Some viewers may have no strong emotional reaction to the image, especially if they are not hungry or interested in the specific type of food shown.\n",
            "\n",
            "\n",
            "**Potentially Negative Emotions (Less Likely, but Possible):**\n",
            "\n",
            "* **Envy/Jealousy:**  If someone is feeling deprived of a good meal or is on a restrictive diet, they might experience envy seeing the delicious and healthy food.\n",
            "* **Frustration/Irritation:** Someone with little time for meal prep might experience frustration or irritation at the implied effort involved in making the meals.\n",
            "\n",
            "Overall, the image is most likely to evoke positive emotions, primarily associated with the appeal of the food and the implied sense of order and wellness.\n",
            "\n"
          ]
        }
      ]
    },
    {
      "cell_type": "code",
      "source": [],
      "metadata": {
        "id": "7NtSwgY0hfux"
      },
      "execution_count": null,
      "outputs": []
    }
  ]
}